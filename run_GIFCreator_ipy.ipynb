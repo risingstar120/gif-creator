{
 "cells": [
  {
   "cell_type": "code",
   "execution_count": 1,
   "metadata": {},
   "outputs": [],
   "source": [
    "'''Create the GIF image with each frame having user specified duration.\n",
    "\n",
    "Author: He Zhang @ University of Exeter\n",
    "Date: 16th April 2019 (Update: 18th April 2019)\n",
    "Contact: hz298@exeter.ac.uk zhangheupc@126.com\n",
    "\n",
    "Copyright (c) 2019 He Zhang\n",
    "'''\n",
    "\n",
    "# Python 3.7\n",
    "\n",
    "import os\n",
    "import re\n",
    "import shutil\n",
    "\n",
    "import imageio\n",
    "\n"
   ]
  },
  {
   "cell_type": "code",
   "execution_count": 2,
   "metadata": {},
   "outputs": [],
   "source": [
    "# 1. Specify user settings.\n",
    "\n",
    "# Set the path of input/output images.\n",
    "PATH_INPUT_IMAGE = 'IMAGE/'\n",
    "PATH_OUTPUT_IMAGE = 'IMAGE_GIF/'\n",
    "\n",
    "# Create the folder for saving output GIF image.\n",
    "# Check if the folder exists. If so, delete it and create a new one.\n",
    "if os.path.exists(PATH_OUTPUT_IMAGE) is True:\n",
    "    shutil.rmtree(PATH_OUTPUT_IMAGE)\n",
    "os.mkdir(PATH_OUTPUT_IMAGE)\n",
    "\n",
    "# Set the format of input static images.\n",
    "FORMAT_INPUT_IMAGE = '.png'\n",
    "\n",
    "# Set the name of output GIF image.\n",
    "GIF_NAME_SAME = \"imgGIF_SAME.gif\"\n",
    "GIF_NAME_DIFF = \"imgGIF_DIFF.gif\"\n",
    "\n",
    "# Set the duration of each frame in GIF image.\n",
    "DURATION_FRAME = 0.5\n",
    "\n",
    "# Set the repeat time of the first and the last frames in GIF image.\n",
    "REPEAT_TIMES_FRAME = 3\n"
   ]
  },
  {
   "cell_type": "code",
   "execution_count": 3,
   "metadata": {},
   "outputs": [
    {
     "name": "stdout",
     "output_type": "stream",
     "text": [
      "\n",
      "Complete!\n",
      "\n"
     ]
    }
   ],
   "source": [
    "# 2.1 Create the GIF image with each frame having the SAME duration.\n",
    "\n",
    "imgGIF = []\n",
    "imgNames = sorted((iN for iN in os.listdir(PATH_INPUT_IMAGE) if iN.endswith(FORMAT_INPUT_IMAGE)))\n",
    "# Note:\n",
    "#     The serial number in the name of input images should have the same length (e.g., '00', '01', ...).\n",
    "#     If not, the 'sorted()' function will return the wrong order of images.\n",
    "\n",
    "for imgName in imgNames:\n",
    "    imgGIF.append(imageio.imread(PATH_INPUT_IMAGE + imgName))\n",
    "\n",
    "imageio.mimsave(PATH_OUTPUT_IMAGE + GIF_NAME_SAME, imgGIF, duration=DURATION_FRAME)\n",
    "\n",
    "print('\\nComplete!\\n')\n"
   ]
  },
  {
   "cell_type": "code",
   "execution_count": 4,
   "metadata": {},
   "outputs": [
    {
     "name": "stdout",
     "output_type": "stream",
     "text": [
      "\n",
      "Complete!\n",
      "\n"
     ]
    }
   ],
   "source": [
    "# 2.2 Create the GIF image with the first and the last frames having LONG duration.\n",
    "\n",
    "imgGIF = []\n",
    "imgNames = sorted((iN for iN in os.listdir(PATH_INPUT_IMAGE) if iN.endswith(FORMAT_INPUT_IMAGE)))\n",
    "# Note:\n",
    "#     The serial number in the name of input images should have the same length (e.g., '00', '01', ...).\n",
    "#     If not, the 'sorted()' function will return the wrong order of images.\n",
    "\n",
    "for imgName in imgNames:\n",
    "    tmpName = re.split(r\"[_.]\", imgName)[2]  # 'tmpName' <str> of <list>\n",
    "    # Note:\n",
    "    #     Split image name string by '_' and '.'.\n",
    "    #     Select the 2-nd part (serial number) of image name (i.e., '00', '01', ...).\n",
    "\n",
    "    if tmpName == '00' or tmpName == '99':\n",
    "        # '00' in _00.png - The first frame in GIF image.\n",
    "        # '99' in _99.png - The last frame in GIF image.\n",
    "        tt = 0\n",
    "        while tt < REPEAT_TIMES_FRAME:\n",
    "            imgGIF.append(imageio.imread(PATH_INPUT_IMAGE + imgName))\n",
    "            tt += 1\n",
    "    else:\n",
    "        imgGIF.append(imageio.imread(PATH_INPUT_IMAGE + imgName))\n",
    "\n",
    "imageio.mimsave(PATH_OUTPUT_IMAGE + GIF_NAME_DIFF, imgGIF, duration=DURATION_FRAME)\n",
    "\n",
    "print('\\nComplete!\\n')\n"
   ]
  },
  {
   "cell_type": "code",
   "execution_count": null,
   "metadata": {},
   "outputs": [],
   "source": []
  }
 ],
 "metadata": {
  "kernelspec": {
   "display_name": "Python 3",
   "language": "python",
   "name": "python3"
  },
  "language_info": {
   "codemirror_mode": {
    "name": "ipython",
    "version": 3
   },
   "file_extension": ".py",
   "mimetype": "text/x-python",
   "name": "python",
   "nbconvert_exporter": "python",
   "pygments_lexer": "ipython3",
   "version": "3.7.1"
  }
 },
 "nbformat": 4,
 "nbformat_minor": 2
}
