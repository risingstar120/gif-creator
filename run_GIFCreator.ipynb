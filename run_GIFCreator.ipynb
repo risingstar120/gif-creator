{
 "cells": [
  {
   "cell_type": "code",
   "execution_count": 1,
   "metadata": {},
   "outputs": [],
   "source": [
    "# Function: Create GIF image with each frame having user specified duration time.\n"
   ]
  },
  {
   "cell_type": "code",
   "execution_count": 2,
   "metadata": {},
   "outputs": [],
   "source": [
    "import os\n",
    "import re  # Regular expression is required for split file names.\n",
    "import shutil\n",
    "\n",
    "import imageio\n",
    "\n"
   ]
  },
  {
   "cell_type": "code",
   "execution_count": 3,
   "metadata": {},
   "outputs": [],
   "source": [
    "# 1. Specify user settings.\n",
    "\n",
    "# Set the path of input/output images.\n",
    "PATH_INPUT_IMAGE = 'IMAGE/'\n",
    "PATH_OUTPUT_IMAGE = 'IMAGE_GIF/'\n",
    "\n",
    "# Create the path of output images.\n",
    "if os.path.exists(PATH_OUTPUT_IMAGE):\n",
    "    shutil.rmtree(PATH_OUTPUT_IMAGE)  # If path exists, remove the path and its contents.\n",
    "os.mkdir(PATH_OUTPUT_IMAGE)\n",
    "\n",
    "# Set the format of input images.\n",
    "FORMAT_INPUT_IMAGE = '.png'\n",
    "\n",
    "# Set the duration time of each frame in GIF image.\n",
    "DURATION_TIME_FRAME = 0.5\n",
    "\n",
    "# Set the repeat amount of the first and the last frames in GIF image.\n",
    "REPEAT_AMOUNT_FRAME = 3\n"
   ]
  },
  {
   "cell_type": "code",
   "execution_count": 4,
   "metadata": {},
   "outputs": [],
   "source": [
    "# 2.1 Create GIF image with each frame having the SAME duration time.\n",
    "\n",
    "imgGIF = []\n",
    "imgNames = sorted((iN for iN in os.listdir(PATH_INPUT_IMAGE) if iN.endswith(FORMAT_INPUT_IMAGE)))\n",
    "# Note:\n",
    "#     The serial number in image name should have the same length.\n",
    "#     E.g., _01.png _02.png ... _12.png ...\n",
    "#     If not, the 'sorted()' function will return the wrong order of image names.\n",
    "\n",
    "for imgName in imgNames:\n",
    "    imgGIF.append(imageio.imread(PATH_INPUT_IMAGE + imgName))\n",
    "\n",
    "imageio.mimsave(PATH_OUTPUT_IMAGE + 'imgGIF_SAME.gif', imgGIF, duration=DURATION_TIME_FRAME)\n"
   ]
  },
  {
   "cell_type": "code",
   "execution_count": 5,
   "metadata": {},
   "outputs": [],
   "source": [
    "# 2.2 Create GIF image with the first and the last frames having LONG duration time.\n",
    "\n",
    "imgGIF = []\n",
    "imgNames = sorted((iN for iN in os.listdir(PATH_INPUT_IMAGE) if iN.endswith(FORMAT_INPUT_IMAGE)))\n",
    "# Note:\n",
    "#     The serial number in image name should have the same length.\n",
    "#     E.g., _01.png _02.png ... _12.png ...\n",
    "#     If not, the 'sorted()' function will return the wrong order of image names.\n",
    "\n",
    "for imgName in imgNames:\n",
    "    tmpName = re.split(r\"[_.]\", imgName)[2]  # Split image name by \"_\" and/or \".\".\n",
    "    if tmpName == '00' or tmpName == '99':\n",
    "        # '00' in _00.png - The first frame in GIF image.\n",
    "        # '99' in _99.png - The last frame in GIF image.\n",
    "        tt = 0\n",
    "        while tt < REPEAT_AMOUNT_FRAME:\n",
    "            imgGIF.append(imageio.imread(PATH_INPUT_IMAGE + imgName))\n",
    "            tt += 1\n",
    "    else:\n",
    "        imgGIF.append(imageio.imread(PATH_INPUT_IMAGE + imgName))\n",
    "\n",
    "imageio.mimsave(PATH_OUTPUT_IMAGE + 'imgGIF_DIFF.gif', imgGIF, duration=DURATION_TIME_FRAME)\n"
   ]
  },
  {
   "cell_type": "code",
   "execution_count": null,
   "metadata": {},
   "outputs": [],
   "source": []
  }
 ],
 "metadata": {
  "kernelspec": {
   "display_name": "Python 3",
   "language": "python",
   "name": "python3"
  },
  "language_info": {
   "codemirror_mode": {
    "name": "ipython",
    "version": 3
   },
   "file_extension": ".py",
   "mimetype": "text/x-python",
   "name": "python",
   "nbconvert_exporter": "python",
   "pygments_lexer": "ipython3",
   "version": "3.7.1"
  }
 },
 "nbformat": 4,
 "nbformat_minor": 2
}
