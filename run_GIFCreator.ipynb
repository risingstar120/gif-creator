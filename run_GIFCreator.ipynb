{
 "cells": [
  {
   "cell_type": "code",
   "execution_count": 1,
   "metadata": {},
   "outputs": [],
   "source": [
    "### Task description: Create GIF image with each frame having user specified duration time.\n",
    "\n",
    "import os, imageio\n",
    "import re  # Regular expression is required for split file names.\n",
    "\n"
   ]
  },
  {
   "cell_type": "code",
   "execution_count": 2,
   "metadata": {},
   "outputs": [],
   "source": [
    "## Specify user settings.\n",
    "\n",
    "input_path = 'Img_Frames/'  # Set input image folder.\n",
    "img_extension = '.png'  # Set the format of input images.\n",
    "\n",
    "duration_time = 0.5  # Set the duration time of each frame/image.\n",
    "num_repeat = 3  # Set the repeating time of the first and the last frames/images (time x3).\n",
    "\n",
    "# tag_type = 1\n",
    "# Set the pattern of creating GIF image.\n",
    "# tag_type = 1 - Create GIF image with each frame having the same duration time.\n",
    "# tag_type = 2 - Create GIF image with each frame having different duration time.\n"
   ]
  },
  {
   "cell_type": "code",
   "execution_count": 3,
   "metadata": {},
   "outputs": [],
   "source": [
    "## Opt. 1 Create GIF image with each frame having the SAME duration time.\n",
    "\n",
    "imgGIF = []\n",
    "imgNames = sorted((iN for iN in os.listdir(input_path) if iN.endswith(img_extension)))\n",
    "# Note: \n",
    "#     The serial number of image name should have same length.\n",
    "#     E.g., _01.png _02.png ... _12.png ...\n",
    "#     Or the sorted() function will return wrong order of image names.\n",
    "\n",
    "for imgName in imgNames:\n",
    "    imgGIF.append(imageio.imread(input_path + imgName))\n",
    "imageio.mimsave(input_path + 'imgGIF_SAME.gif', imgGIF, duration=duration_time)\n"
   ]
  },
  {
   "cell_type": "code",
   "execution_count": 4,
   "metadata": {},
   "outputs": [],
   "source": [
    "## Opt. 2 Create GIF image with the first and the last frames having LONG duration time.\n",
    "\n",
    "imgGIF = []\n",
    "imgNames = sorted((iN for iN in os.listdir(input_path) if iN.endswith(img_extension)))\n",
    "# Note: \n",
    "#     The serial number of image name should have same length.\n",
    "#     E.g., _01.png _02.png ... _12.png ...\n",
    "#     Or the sorted() function will return wrong order of image names.\n",
    "\n",
    "for imgName in imgNames:\n",
    "    tmpName = re.split(r\"[_.]\", imgName)[2]  # Split image name by \"_\" and/or \".\".\n",
    "    if tmpName == '00' or tmpName == '99':  # _00.png - the first frame, _99.png - the last frame.\n",
    "        tt = 0\n",
    "        while tt < num_repeat:\n",
    "            imgGIF.append(imageio.imread(input_path + imgName))\n",
    "            tt += 1\n",
    "    else:\n",
    "        imgGIF.append(imageio.imread(input_path + imgName))\n",
    "imageio.mimsave(input_path + 'imgGIF_DIFF.gif', imgGIF, duration=duration_time)\n"
   ]
  },
  {
   "cell_type": "code",
   "execution_count": null,
   "metadata": {},
   "outputs": [],
   "source": []
  }
 ],
 "metadata": {
  "kernelspec": {
   "display_name": "Python 3",
   "language": "python",
   "name": "python3"
  },
  "language_info": {
   "codemirror_mode": {
    "name": "ipython",
    "version": 3
   },
   "file_extension": ".py",
   "mimetype": "text/x-python",
   "name": "python",
   "nbconvert_exporter": "python",
   "pygments_lexer": "ipython3",
   "version": "3.7.1"
  }
 },
 "nbformat": 4,
 "nbformat_minor": 2
}
