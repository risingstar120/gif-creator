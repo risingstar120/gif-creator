{
 "cells": [
  {
   "cell_type": "code",
   "execution_count": 1,
   "metadata": {},
   "outputs": [],
   "source": [
    "### Function: Create GIF image with each frame having user specified duration time.\n",
    "\n",
    "import os, imageio\n",
    "import re  # Regular expression is required for split file names.\n",
    "\n"
   ]
  },
  {
   "cell_type": "code",
   "execution_count": 2,
   "metadata": {},
   "outputs": [],
   "source": [
    "## Specify user settings.\n",
    "\n",
    "# Set input image folder.\n",
    "input_path = 'Img_Frames/'\n",
    "\n",
    "# Set the format of input images.\n",
    "img_extension = '.png'\n",
    "\n",
    "# Set the duration time of each image/frame.\n",
    "duration_time = 0.5\n",
    "\n",
    "# Set the repeating time of the first and the last images/frames.\n",
    "num_repeat = 3\n",
    "\n",
    "# # Set the pattern of creating GIF image.\n",
    "# tag_type = 1\n",
    "# # tag_type = 1 - Create GIF image with each frame having the same duration time.\n",
    "# # tag_type = 2 - Create GIF image with each frame having different duration time.\n"
   ]
  },
  {
   "cell_type": "code",
   "execution_count": 3,
   "metadata": {},
   "outputs": [],
   "source": [
    "## Pattern 1 - Create GIF image with each frame having the same duration time.\n",
    "\n",
    "imgGIF = []\n",
    "imgNames = sorted((iN for iN in os.listdir(input_path) if iN.endswith(img_extension)))\n",
    "# Note: \n",
    "#     The serial number of image name should have the same length.\n",
    "#     E.g., _01.png _02.png ... _12.png ...\n",
    "#     Or the 'sorted()' function will return the wrong order of image names.\n",
    "\n",
    "for imgName in imgNames:\n",
    "    imgGIF.append(imageio.imread(input_path + imgName))\n",
    "\n",
    "imageio.mimsave(input_path + 'imgGIF_SAME.gif', imgGIF, duration=duration_time)\n"
   ]
  },
  {
   "cell_type": "code",
   "execution_count": 4,
   "metadata": {},
   "outputs": [],
   "source": [
    "## Pattern 2 - Create GIF image with the first and the last frames having different (long) duration time.\n",
    "\n",
    "imgGIF = []\n",
    "imgNames = sorted((iN for iN in os.listdir(input_path) if iN.endswith(img_extension)))\n",
    "# Note: \n",
    "#     The serial number of image name should have the same length.\n",
    "#     E.g., _01.png _02.png ... _12.png ...\n",
    "#     Or the 'sorted()' function will return the wrong order of image names.\n",
    "\n",
    "for imgName in imgNames:\n",
    "    tmpName = re.split(r\"[_.]\", imgName)[2]  # Split image name by \"_\" and/or \".\".\n",
    "    if tmpName == '00' or tmpName == '99':  # _00.png - the first frame, _99.png - the last frame.\n",
    "        tt = 0\n",
    "        while tt < num_repeat:\n",
    "            imgGIF.append(imageio.imread(input_path + imgName))\n",
    "            tt += 1\n",
    "    else:\n",
    "        imgGIF.append(imageio.imread(input_path + imgName))\n",
    "\n",
    "imageio.mimsave(input_path + 'imgGIF_DIFF.gif', imgGIF, duration=duration_time)\n"
   ]
  },
  {
   "cell_type": "code",
   "execution_count": null,
   "metadata": {},
   "outputs": [],
   "source": []
  }
 ],
 "metadata": {
  "kernelspec": {
   "display_name": "Python 3",
   "language": "python",
   "name": "python3"
  },
  "language_info": {
   "codemirror_mode": {
    "name": "ipython",
    "version": 3
   },
   "file_extension": ".py",
   "mimetype": "text/x-python",
   "name": "python",
   "nbconvert_exporter": "python",
   "pygments_lexer": "ipython3",
   "version": "3.7.1"
  }
 },
 "nbformat": 4,
 "nbformat_minor": 2
}
