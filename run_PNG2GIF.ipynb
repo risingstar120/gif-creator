{
 "cells": [
  {
   "cell_type": "code",
   "execution_count": 1,
   "metadata": {},
   "outputs": [],
   "source": [
    "## Opt. 1 Generate GIF image with each frame has SAME duration.\n",
    "\n",
    "import imageio, os\n",
    "\n",
    "input_path = 'Img_Frames/'  # Input image folder.\n",
    "img_extension = '.png'  # Format of input image frames.\n",
    "duration_time = 0.5  # Duration time of each frame.\n",
    "\n",
    "\n",
    "imgGIF = []\n",
    "imgNames = sorted((iN for iN in os.listdir(input_path) if iN.endswith(img_extension)))\n",
    "# Note: \n",
    "# The serial number of image name should has same length!!!\n",
    "# Or the sorted() function returns wrong order of images!!!\n",
    "# E.g., _01.png _02.png ... _12.png ...\n",
    "\n",
    "for imgName in imgNames:\n",
    "    imgGIF.append(imageio.imread(input_path + imgName))\n",
    "imageio.mimsave(input_path + 'imgGIF_SAME.gif', imgGIF, duration=duration_time)\n"
   ]
  },
  {
   "cell_type": "code",
   "execution_count": 2,
   "metadata": {},
   "outputs": [],
   "source": [
    "## Opt. 2 Generate GIF image with each frame has DIFF duration.\n",
    "\n",
    "import imageio, os\n",
    "import re  # Regular expression is requred for split file name.\n",
    "\n",
    "input_path = 'Img_Frames/'  # Input image folder.\n",
    "img_extension = '.png'  # Format of input image frames.\n",
    "duration_time = 0.5  # Duration time of each frame.\n",
    "\n",
    "num_repeat = 3  # The first and last images of gif have long duration.\n",
    "\n",
    "\n",
    "imgGIF = []\n",
    "imgNames = sorted((iN for iN in os.listdir(input_path) if iN.endswith(img_extension)))\n",
    "# Note: \n",
    "# The serial number of image name should has same length!!!\n",
    "# Or the sorted() function returns wrong order of images!!!\n",
    "# E.g., _01.png _02.png _12.png ...\n",
    "\n",
    "for imgName in imgNames:\n",
    "    tmpName = re.split(r\"[_.]\", imgName)[2]  # Split image file name by \"_\" and \".\".\n",
    "    if tmpName == '00' or tmpName == '99':  # _00.png - first image, _99.png - last image.\n",
    "        tt = 0\n",
    "        while tt < num_repeat:\n",
    "            imgGIF.append(imageio.imread(input_path + imgName))\n",
    "            tt += 1\n",
    "    else:\n",
    "        imgGIF.append(imageio.imread(input_path + imgName))\n",
    "imageio.mimsave(input_path + 'imgGIF_DIFF.gif', imgGIF, duration=duration_time)\n"
   ]
  },
  {
   "cell_type": "code",
   "execution_count": null,
   "metadata": {},
   "outputs": [],
   "source": []
  }
 ],
 "metadata": {
  "kernelspec": {
   "display_name": "Python 3",
   "language": "python",
   "name": "python3"
  },
  "language_info": {
   "codemirror_mode": {
    "name": "ipython",
    "version": 3
   },
   "file_extension": ".py",
   "mimetype": "text/x-python",
   "name": "python",
   "nbconvert_exporter": "python",
   "pygments_lexer": "ipython3",
   "version": "3.7.1"
  }
 },
 "nbformat": 4,
 "nbformat_minor": 2
}
